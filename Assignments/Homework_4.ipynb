{
 "cells": [
  {
   "cell_type": "markdown",
   "metadata": {},
   "source": [
    "# Introduction to Data Science\n",
    "## Homework 4 "
   ]
  },
  {
   "cell_type": "markdown",
   "metadata": {},
   "source": [
    "Student Name: Kavitha Vishwanathan\n",
    "\n",
    "Student Netid: kv668\n",
    "***"
   ]
  },
  {
   "cell_type": "markdown",
   "metadata": {},
   "source": [
    "### Part 1: Profit\n",
    "1\\. Imagine that you work for an online advertising company that has just been hired to advertise a new local restaurant online. Let's say that it costs \\$0.015 to present a coupon ad to online consumers. If a consumer cashes in your coupon, you stand to earn \\$5. Given this information, what would your cost/benefit matrix be?  Explain your reasoning briefly."
   ]
  },
  {
   "cell_type": "code",
   "execution_count": 110,
   "metadata": {
    "collapsed": false
   },
   "outputs": [
    {
     "name": "stdout",
     "output_type": "stream",
     "text": [
      "       p      n\n",
      "Y  4.985 -0.015\n",
      "N  0.000  0.000\n"
     ]
    }
   ],
   "source": [
    "import pandas as pd\n",
    "cost_matrix = pd.DataFrame([[4.985, -0.015], [0, 0]], columns=['p', 'n'], index=['Y', 'N'])\n",
    "\n",
    "# Don't delete this line\n",
    "print cost_matrix"
   ]
  },
  {
   "cell_type": "markdown",
   "metadata": {},
   "source": [
    "**ANSWER:**\n",
    "#(Y,p) -> A true positive occurs when a customer who is offered a coupon accepts it. The benefit here is the profit from the coupon minus the cost incured to present a coupon (ans: 5 - 0.015 = 4.985)\n",
    "#(Y,n) -> A false positive occurs when the customer we predicted as a responder, does not uses the coupon. Here our cost will be the cost incured to present a coupon (ans: -0.015)\n",
    "#(N,p) -> A false negative occurs when a customer we predicted not likely to be a responder,but would have used the coupon if presented. Here no money was spent and gained (ans: 0)\n",
    "#(N,n) -> A true negative occurs when the customer we predicted not likely to be a responder is actually customer who would not have cashed the coupon. Here there is no profit and no cost (ans: 0)"
   ]
  },
  {
   "cell_type": "markdown",
   "metadata": {},
   "source": [
    "### Part 2: Basic evaluations\n",
    "For this part of the assignment, we are going to use a churn data set located in `data/churn.csv`. The first 11 columns are predictor variables.\n",
    "\n",
    "```\n",
    "COLLEGE                       college educated?\n",
    "INCOME                        income\n",
    "OVERAGE                       average overcharges per month\n",
    "LEFTOVER                      average % leftover minutes per month\n",
    "HOUSE                         value of dwelling (from census tract)\n",
    "HANDSET_PRICE                 cost of phone\n",
    "OVER_15MINS_CALLS_PER_MONTH   average number of long calls per month\n",
    "AVERAGE_CALL_DURATION         average call duration\n",
    "REPORTED_SATISFACTION         reported level of satisfaction\n",
    "REPORTED_USAGE_LEVEL          self-reported usage level\n",
    "CONSIDERING_CHANGE_OF_PLAN    was customer considering changing plan?\n",
    "```\n",
    "\n",
    "The last column, `LEAVE`, is the target variable that equals one if the user left and zero if they stayed."
   ]
  },
  {
   "cell_type": "markdown",
   "metadata": {},
   "source": [
    "1\\. Load the data into a pandas `DataFrame()`."
   ]
  },
  {
   "cell_type": "code",
   "execution_count": 111,
   "metadata": {
    "collapsed": false
   },
   "outputs": [
    {
     "data": {
      "text/html": [
       "<div>\n",
       "<table border=\"1\" class=\"dataframe\">\n",
       "  <thead>\n",
       "    <tr style=\"text-align: right;\">\n",
       "      <th></th>\n",
       "      <th>COLLEGE</th>\n",
       "      <th>INCOME</th>\n",
       "      <th>OVERAGE</th>\n",
       "      <th>LEFTOVER</th>\n",
       "      <th>HOUSE</th>\n",
       "      <th>HANDSET_PRICE</th>\n",
       "      <th>OVER_15MINS_CALLS_PER_MONTH</th>\n",
       "      <th>AVERAGE_CALL_DURATION</th>\n",
       "      <th>REPORTED_SATISFACTION</th>\n",
       "      <th>REPORTED_USAGE_LEVEL</th>\n",
       "      <th>CONSIDERING_CHANGE_OF_PLAN</th>\n",
       "      <th>LEAVE</th>\n",
       "    </tr>\n",
       "  </thead>\n",
       "  <tbody>\n",
       "    <tr>\n",
       "      <th>0</th>\n",
       "      <td>0</td>\n",
       "      <td>31953</td>\n",
       "      <td>0</td>\n",
       "      <td>6</td>\n",
       "      <td>313378</td>\n",
       "      <td>161</td>\n",
       "      <td>0</td>\n",
       "      <td>4</td>\n",
       "      <td>unsat</td>\n",
       "      <td>little</td>\n",
       "      <td>no</td>\n",
       "      <td>0</td>\n",
       "    </tr>\n",
       "    <tr>\n",
       "      <th>1</th>\n",
       "      <td>1</td>\n",
       "      <td>36147</td>\n",
       "      <td>0</td>\n",
       "      <td>13</td>\n",
       "      <td>800586</td>\n",
       "      <td>244</td>\n",
       "      <td>0</td>\n",
       "      <td>6</td>\n",
       "      <td>unsat</td>\n",
       "      <td>little</td>\n",
       "      <td>considering</td>\n",
       "      <td>0</td>\n",
       "    </tr>\n",
       "    <tr>\n",
       "      <th>2</th>\n",
       "      <td>1</td>\n",
       "      <td>27273</td>\n",
       "      <td>230</td>\n",
       "      <td>0</td>\n",
       "      <td>305049</td>\n",
       "      <td>201</td>\n",
       "      <td>16</td>\n",
       "      <td>15</td>\n",
       "      <td>unsat</td>\n",
       "      <td>very_little</td>\n",
       "      <td>perhaps</td>\n",
       "      <td>0</td>\n",
       "    </tr>\n",
       "    <tr>\n",
       "      <th>3</th>\n",
       "      <td>1</td>\n",
       "      <td>29215</td>\n",
       "      <td>208</td>\n",
       "      <td>85</td>\n",
       "      <td>224784</td>\n",
       "      <td>241</td>\n",
       "      <td>21</td>\n",
       "      <td>1</td>\n",
       "      <td>very_unsat</td>\n",
       "      <td>little</td>\n",
       "      <td>never_thought</td>\n",
       "      <td>0</td>\n",
       "    </tr>\n",
       "    <tr>\n",
       "      <th>4</th>\n",
       "      <td>0</td>\n",
       "      <td>133728</td>\n",
       "      <td>64</td>\n",
       "      <td>48</td>\n",
       "      <td>632969</td>\n",
       "      <td>626</td>\n",
       "      <td>3</td>\n",
       "      <td>2</td>\n",
       "      <td>unsat</td>\n",
       "      <td>high</td>\n",
       "      <td>no</td>\n",
       "      <td>0</td>\n",
       "    </tr>\n",
       "  </tbody>\n",
       "</table>\n",
       "</div>"
      ],
      "text/plain": [
       "   COLLEGE  INCOME  OVERAGE  LEFTOVER   HOUSE  HANDSET_PRICE  \\\n",
       "0        0   31953        0         6  313378            161   \n",
       "1        1   36147        0        13  800586            244   \n",
       "2        1   27273      230         0  305049            201   \n",
       "3        1   29215      208        85  224784            241   \n",
       "4        0  133728       64        48  632969            626   \n",
       "\n",
       "   OVER_15MINS_CALLS_PER_MONTH  AVERAGE_CALL_DURATION REPORTED_SATISFACTION  \\\n",
       "0                            0                      4                 unsat   \n",
       "1                            0                      6                 unsat   \n",
       "2                           16                     15                 unsat   \n",
       "3                           21                      1            very_unsat   \n",
       "4                            3                      2                 unsat   \n",
       "\n",
       "  REPORTED_USAGE_LEVEL CONSIDERING_CHANGE_OF_PLAN  LEAVE  \n",
       "0               little                         no      0  \n",
       "1               little                considering      0  \n",
       "2          very_little                    perhaps      0  \n",
       "3               little              never_thought      0  \n",
       "4                 high                         no      0  "
      ]
     },
     "execution_count": 111,
     "metadata": {},
     "output_type": "execute_result"
    }
   ],
   "source": [
    "import pandas as pd\n",
    "data = pd.read_csv(\"data/churn_data.csv\")\n",
    "data.head()"
   ]
  },
  {
   "cell_type": "markdown",
   "metadata": {},
   "source": [
    "2\\. Three of the columns, `REPORTED_SATISFACTION`, `REPORTED_USAGE_LEVEL`, and `CONSIDERING_CHANGE_OF_PLAN` are categorical variables. Use the techniques we discussed in class to turn these into dummy variables."
   ]
  },
  {
   "cell_type": "code",
   "execution_count": 112,
   "metadata": {
    "collapsed": false
   },
   "outputs": [],
   "source": [
    "for field in ['REPORTED_SATISFACTION', 'REPORTED_USAGE_LEVEL','CONSIDERING_CHANGE_OF_PLAN']:\n",
    "    # Go through each possible value except the last one\n",
    "    for value in data[field].unique()[0:-1]:\n",
    "        # Create a new binary field\n",
    "        data[field + \"_\" + value] = pd.Series(data[field] == value, dtype=int)\n",
    "\n",
    "    # Drop the original field\n",
    "    data = data.drop([field], axis=1)"
   ]
  },
  {
   "cell_type": "markdown",
   "metadata": {},
   "source": [
    "3\\. Put all of the predictors into a data frame called `X` and the target variable in a data frame called `Y`."
   ]
  },
  {
   "cell_type": "code",
   "execution_count": 113,
   "metadata": {
    "collapsed": false
   },
   "outputs": [],
   "source": [
    "X = data.drop(['LEAVE'], axis=1)\n",
    "Y = data['LEAVE']"
   ]
  },
  {
   "cell_type": "markdown",
   "metadata": {},
   "source": [
    "3\\. Create `LogisticRegression()` and `DecisionTreeClassifier()` models. For the decision tree, use `criterion=\"entropy\"`. For all other settings, keep the default values. Use 3-fold cross validation to obtain the accuracy and area under the ROC curve for both models."
   ]
  },
  {
   "cell_type": "code",
   "execution_count": 114,
   "metadata": {
    "collapsed": false
   },
   "outputs": [
    {
     "name": "stdout",
     "output_type": "stream",
     "text": [
      "Logistic regression: Accuracy = 0.910, AUC = 0.629\n",
      "Tree regression: Accuracy = 0.850, AUC = 0.556\n"
     ]
    }
   ],
   "source": [
    "# There will be necessary\n",
    "from sklearn.linear_model import LogisticRegression\n",
    "from sklearn.tree import DecisionTreeClassifier\n",
    "\n",
    "# These will be useful\n",
    "import numpy as np\n",
    "from sklearn import metrics\n",
    "from sklearn import cross_validation\n",
    "\n",
    "model = LogisticRegression()\n",
    "model.fit(X, Y)\n",
    "\n",
    "treemodel = DecisionTreeClassifier(criterion=\"entropy\")\n",
    "treemodel.fit(X, Y)\n",
    "\n",
    "# You should store your output in these variables\n",
    "lr_accuracy = np.mean(cross_validation.cross_val_score(model, X, Y, scoring=\"accuracy\"))\n",
    "lr_auc = np.mean(cross_validation.cross_val_score(model, X, Y, scoring=\"roc_auc\"))\n",
    "tree_accuracy = np.mean(cross_validation.cross_val_score(treemodel, X, Y, scoring=\"accuracy\"))\n",
    "tree_auc = np.mean(cross_validation.cross_val_score(treemodel, X, Y, scoring=\"roc_auc\"))\n",
    "\n",
    "# These lines will be used for grading. Ensure they print what they should.\n",
    "print \"Logistic regression: Accuracy = %.3f, AUC = %.3f\" % (lr_accuracy, lr_auc)\n",
    "print \"Tree regression: Accuracy = %.3f, AUC = %.3f\" % (tree_accuracy, tree_auc)"
   ]
  },
  {
   "cell_type": "markdown",
   "metadata": {},
   "source": [
    "4\\. What measure from above do you think gives a better assessment of model quality? Explain why in **one paragraph**."
   ]
  },
  {
   "cell_type": "markdown",
   "metadata": {},
   "source": [
    "**ANSWER:** The Logistic Regression model gives a better assessment than the decision tree. Because the AUC for tree regression (0.560) is just better than the random AUC(0.5). As the value of AUC increases it means that the classifier is better in distinguishing between the positive and negative instance of the target population"
   ]
  },
  {
   "cell_type": "markdown",
   "metadata": {},
   "source": [
    "5\\. Create `LogisticRegression()` and `DecisionTreeClassifier()` models. For the logistic regression find the optimal value for regularization (`C`) using 3-fold cross validation and AUC. Use the same procedure to find the optimal value of `min_samples_split` for the decision tree classifier. For each of these values, try 10 different choices. To show your results, create two plots that show the value of AUC on the y-axis and the parameter values you tried on the x-axis. **Don't forget to label your axes!** Store your best value of C in `best_c` and your best `min_samples_split` in `best_mss`."
   ]
  },
  {
   "cell_type": "code",
   "execution_count": 115,
   "metadata": {
    "collapsed": true
   },
   "outputs": [],
   "source": [
    "# Run this so your plots show properly\n",
    "import matplotlib.pyplot as plt\n",
    "%matplotlib inline\n",
    "plt.rcParams['figure.figsize'] = 10, 8"
   ]
  },
  {
   "cell_type": "code",
   "execution_count": 116,
   "metadata": {
    "collapsed": false
   },
   "outputs": [
    {
     "name": "stdout",
     "output_type": "stream",
     "text": [
      "5000\n"
     ]
    },
    {
     "data": {
      "image/png": "[encoded data removed]",
      "text/plain": [
       "<matplotlib.figure.Figure at 0x7f2ff7b02e90>"
      ]
     },
     "metadata": {},
     "output_type": "display_data"
    }
   ],
   "source": [
    "# Code to test and create a plot for LogisticRegression() here\n",
    "auc = []\n",
    "C= [0.001, 0.01, 0.1, 1, 100,1000,2500,4500,5000,10000]\n",
    "for c in C:\n",
    "    model = LogisticRegression(C=c)\n",
    "    model.fit(X, Y)\n",
    "\n",
    "    # Get the area under the curve (AUC)\n",
    "    auc.append(np.mean(cross_validation.cross_val_score(model, X, Y, scoring=\"roc_auc\")))\n",
    "    \n",
    "plt.xlabel(\"C\")\n",
    "plt.ylabel(\"AUC\")\n",
    "plt.plot(C,auc)\n",
    "plt.ylim([0.0, 1])\n",
    "plt.xlim([0,10000])\n",
    "\n",
    "indexAUC = auc.index(max(auc))\n",
    "best_c = C[indexAUC]\n",
    "print best_c"
   ]
  },
  {
   "cell_type": "code",
   "execution_count": 96,
   "metadata": {
    "collapsed": false
   },
   "outputs": [
    {
     "name": "stdout",
     "output_type": "stream",
     "text": [
      "1300\n"
     ]
    },
    {
     "data": {
      "image/png": "[encoded data removed]",
      "text/plain": [
       "<matplotlib.figure.Figure at 0x7f2ff7cc5250>"
      ]
     },
     "metadata": {},
     "output_type": "display_data"
    }
   ],
   "source": [
    "# Code to test and create a plot for DecisionTreeClassifier() here\n",
    "auc = []\n",
    "MSS= [10,100,1000,1100,1200,1240,1300,1350,1400]\n",
    "for mss in MSS:\n",
    "    model = DecisionTreeClassifier(min_samples_split=mss, criterion=\"entropy\")\n",
    "    model.fit(X, Y)\n",
    "\n",
    "    # Get the area under the curve (AUC)\n",
    "    auc.append(np.mean(cross_validation.cross_val_score(model, X, Y, scoring=\"roc_auc\")))\n",
    "    \n",
    "plt.xlabel(\"Values of Min_Samples_split\")\n",
    "plt.ylabel(\"AUC\")\n",
    "plt.plot(MSS,auc)\n",
    "plt.ylim([0.0, 1])\n",
    "#plt.xlim([0,10000])\n",
    "\n",
    "indexAUC = auc.index(max(auc))\n",
    "best_mss = MSS[indexAUC]\n",
    "print best_mss"
   ]
  },
  {
   "cell_type": "markdown",
   "metadata": {},
   "source": [
    "6\\. Split your data into testing and training sets. Give the training set 75% of the data. Using the best parameters from the previous question, plot the ROC curve for both classifier in the same plot. Make sure your plot has a legend so that you can tell which curve related to which classifier. In addition, place the area under the ROC curve in the legend. **Don't forget to label your axes!** Discuss your observations."
   ]
  },
  {
   "cell_type": "code",
   "execution_count": 117,
   "metadata": {
    "collapsed": false
   },
   "outputs": [
    {
     "data": {
      "text/plain": [
       "<matplotlib.legend.Legend at 0x7f2ff7179610>"
      ]
     },
     "execution_count": 117,
     "metadata": {},
     "output_type": "execute_result"
    },
    {
     "data": {
      "image/png": "[encoded data removed]",
      "text/plain": [
       "<matplotlib.figure.Figure at 0x7f2ff732a710>"
      ]
     },
     "metadata": {},
     "output_type": "display_data"
    }
   ],
   "source": [
    "from sklearn.cross_validation import train_test_split\n",
    "\n",
    "X_train, X_test, Y_train, Y_test = train_test_split(X, Y, train_size=.75)\n",
    "model_types = [\"logistic_regression\", \"decision_tree\"]\n",
    "\n",
    "for model_type in model_types:\n",
    "    # Instantiate the model\n",
    "    if model_type == \"decision_tree\":\n",
    "        model = DecisionTreeClassifier(criterion=\"entropy\", min_samples_split=best_mss)\n",
    "    elif model_type == \"logistic_regression\":\n",
    "        model = LogisticRegression(C=best_c)\n",
    "    model.fit(X_train, Y_train)\n",
    "\n",
    "    # Get the probability of Y_test records being = 1\n",
    "    Y_test_probability_1 = model.predict_proba(X_test)[:, 1]\n",
    "\n",
    "    # Use the metrics.roc_curve function to get the true positive rate (tpr) and false positive rate (fpr)\n",
    "    fpr, tpr, thresholds = metrics.roc_curve(Y_test, Y_test_probability_1)\n",
    "\n",
    "    # Get the area under the curve (AUC)\n",
    "    acc = np.mean(cross_validation.cross_val_score(model, X, Y, scoring=\"accuracy\"))\n",
    "    auc = np.mean(cross_validation.cross_val_score(model, X, Y, scoring=\"roc_auc\"))\n",
    "\n",
    "    # Plot the ROC curve\n",
    "    plt.plot(fpr, tpr, label=model_type + \" (AUC = \" + str(round(auc, 2)) + \")\")\n",
    "plt.xlabel(\"False positive rate (fpr)\")\n",
    "plt.ylabel(\"True positive rate (tpr)\")\n",
    "plt.plot([0,1], [0,1], 'k--', label=\"Random\")\n",
    "plt.title(\"ROC Curve\")\n",
    "plt.legend(loc=2)"
   ]
  },
  {
   "cell_type": "markdown",
   "metadata": {},
   "source": [
    "**ANSWER:** As we see the curve corressponding to the decision tree is more bowed than the logistic regression, thus saying that decision model is a better one because of it's predictive superiority. If we take any corresponding points from the two models, if one lies in northwest to the other, then that classifier is superior. Because it means that Tp rate is higher and fp rate is lower. Thus from the above graph, even if we didn't know the AUC, we can find the better model by comparing the two plots"
   ]
  },
  {
   "cell_type": "markdown",
   "metadata": {},
   "source": [
    "### Part 3: Profits, benefits, and costs\n",
    "For these questions, we are going to use the same data from above."
   ]
  },
  {
   "cell_type": "markdown",
   "metadata": {},
   "source": [
    "1\\. Despite all your retention efforts, customers still are leaving your company, and when a customer leaves the company incurs various costs.   The company has created a cost-reduction plan (CRP) for those who do churn, separate from the ongoing retention efforts.  The CRP will be targeted to those most likely to churn, based on a model you build.  If the plan is given to someone who indeed churns, the company's cost will be reduced by \\$15.  The cost of enacting the plan for a customer is \\$2.  What would your cost matrix be in this case?  Give a short explanation for your reasoning."
   ]
  },
  {
   "cell_type": "code",
   "execution_count": 121,
   "metadata": {
    "collapsed": false
   },
   "outputs": [
    {
     "name": "stdout",
     "output_type": "stream",
     "text": [
      "    p  n\n",
      "Y  13 -2\n",
      "N   0  0\n"
     ]
    }
   ],
   "source": [
    "### import pandas as pd\n",
    "cost_matrix = pd.DataFrame([[13, -2], [0, 0]], columns=['p', 'n'], index=['Y', 'N'])\n",
    "\n",
    "# Don't delete this line\n",
    "print cost_matrix"
   ]
  },
  {
   "cell_type": "markdown",
   "metadata": {},
   "source": [
    "**ANSWER:**\n",
    "#(Y,p) -> A true positive occurs when a customer who is offered a plan, continue in the company. The benefit here is the profit from the plan minus the cost incured to present a plan (ans: 15 - 2 = 13)\n",
    "#(Y,n) -> A false positive occurs when the customer we predicted will retain in the company, does churns. Here our cost will be the cost incured to present a plan (ans: -2)\n",
    "#(N,p) -> A false negative occurs when a customer we predicted will retain in the company, but would have retained in the company if given the plan. Here no money was spent and gained (ans: 0)\n",
    "#(N,n) -> A true negative occurs when the customer we predicted not likely to be a retained is actually customer who would have left the company. Here there is no profit and no cost (ans: 0)"
   ]
  },
  {
   "cell_type": "markdown",
   "metadata": {},
   "source": [
    "2\\. Use the model from Part 2 Question 6 that gave the best AUC and use it to plot a profit curve."
   ]
  },
  {
   "cell_type": "code",
   "execution_count": 122,
   "metadata": {
    "collapsed": false
   },
   "outputs": [
    {
     "data": {
      "text/plain": [
       "<matplotlib.text.Text at 0x7f2ff7108c90>"
      ]
     },
     "execution_count": 122,
     "metadata": {},
     "output_type": "execute_result"
    },
    {
     "data": {
      "image/png": "[encoded data removed]",
      "text/plain": [
       "<matplotlib.figure.Figure at 0x7f2ff75bc810>"
      ]
     },
     "metadata": {},
     "output_type": "display_data"
    }
   ],
   "source": [
    "import matplotlib.pyplot as plt\n",
    "%matplotlib inline\n",
    "plt.rcParams['figure.figsize'] = 10, 8\n",
    "\n",
    "model = DecisionTreeClassifier(criterion=\"entropy\", min_samples_split=best_mss)\n",
    "model.fit(X_test, Y_test)\n",
    "\n",
    "probabilities = model.predict_proba(X_test)[:, 1]\n",
    "#print probabilities\n",
    "\n",
    "# Get the false positive rate, true positive rate, and all thresholds\n",
    "fpr, tpr, thresholds = metrics.roc_curve(Y_test, model.predict_proba(X_test)[:,1])\n",
    "Size_targeted_pop = float(len(Y_test))\n",
    "\n",
    "# What is the baseline probability of being positive or negative in the data set?\n",
    "p_p = np.sum(Y_test)/float(len(Y_test))\n",
    "p_n = 1 - np.sum(Y_test)/float(len(Y_test))\n",
    "\n",
    "# How many users are above the current threshold?\n",
    "n_targeted = []\n",
    "for t in thresholds:\n",
    "    n_targeted.append(np.sum(probabilities >= t))\n",
    "\n",
    "# Turn these counts to percentages of users above the threshold\n",
    "n_targeted = np.array(n_targeted)/float(len(Y_test))\n",
    "\n",
    "# Expected profits:\n",
    "expected_profits = (cost_matrix['p']['Y']*(tpr*p_p)) + (cost_matrix['n']['Y']*(fpr*p_n))\n",
    "\n",
    "# Plot the profit curve\n",
    "plt.plot(n_targeted, Size_targeted_pop*expected_profits)\n",
    "plt.xlabel(\"Percentage of users targeted\")\n",
    "plt.ylabel(\"Profit\")\n",
    "plt.title(\"Profit Curve\")"
   ]
  },
  {
   "cell_type": "markdown",
   "metadata": {},
   "source": [
    "3\\. Approximately how many of your customers would you target?"
   ]
  },
  {
   "cell_type": "markdown",
   "metadata": {},
   "source": [
    "**ANSWER:** If we have unlimited resources then we can maximize the profit by choosing top 15% of customers on the list. If my budget is constrained, I would calculate my resources and target the highest ranked customers based on my budget"
   ]
  }
 ],
 "metadata": {
  "kernelspec": {
   "display_name": "Python 2",
   "language": "python",
   "name": "python2"
  },
  "language_info": {
   "codemirror_mode": {
    "name": "ipython",
    "version": 2
   },
   "file_extension": ".py",
   "mimetype": "text/x-python",
   "name": "python",
   "nbconvert_exporter": "python",
   "pygments_lexer": "ipython2",
   "version": "2.7.6"
  }
 },
 "nbformat": 4,
 "nbformat_minor": 0
}
